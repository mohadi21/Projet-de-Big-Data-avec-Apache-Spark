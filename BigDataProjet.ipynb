{
  "nbformat": 4,
  "nbformat_minor": 0,
  "metadata": {
    "colab": {
      "name": "BigDataProjet.ipynb",
      "provenance": [],
      "collapsed_sections": [],
      "include_colab_link": true
    },
    "kernelspec": {
      "name": "python3",
      "display_name": "Python 3"
    }
  },
  "cells": [
    {
      "cell_type": "markdown",
      "metadata": {
        "id": "view-in-github",
        "colab_type": "text"
      },
      "source": [
        "<a href=\"https://colab.research.google.com/github/mohadi21/Projet-de-Big-Data-avec-Apache-Spark/blob/main/BigDataProjet.ipynb\" target=\"_parent\"><img src=\"https://colab.research.google.com/assets/colab-badge.svg\" alt=\"Open In Colab\"/></a>"
      ]
    },
    {
      "cell_type": "markdown",
      "metadata": {
        "id": "zLEq39znRYc3"
      },
      "source": [
        "Master 2 AMSD\r\n",
        "\r\n",
        "Mohamed BOUDJEMAI\r\n",
        "\r\n"
      ]
    },
    {
      "cell_type": "markdown",
      "metadata": {
        "id": "DWVbsqZSj_Js"
      },
      "source": [
        "# Mise en place de l’environnement de travail"
      ]
    },
    {
      "cell_type": "code",
      "metadata": {
        "id": "uUUr9ByOrgmK"
      },
      "source": [
        "# Run below commands in google colab\r\n",
        "# install Java8\r\n",
        "!apt-get install openjdk-8-jdk-headless -qq > /dev/null\r\n",
        "# download spark3.0.0\r\n",
        "!wget -q https://downloads.apache.org/spark/spark-3.0.2/spark-3.0.2-bin-hadoop2.7.tgz\r\n",
        "# unzip it\r\n",
        "!tar xf spark-3.0.2-bin-hadoop2.7.tgz\r\n",
        "# install findspark \r\n",
        "!pip install -q findspark"
      ],
      "execution_count": null,
      "outputs": []
    },
    {
      "cell_type": "code",
      "metadata": {
        "id": "p3f6_MsSri9K"
      },
      "source": [
        "import os\r\n",
        "os.environ[\"JAVA_HOME\"] = \"/usr/lib/jvm/java-8-openjdk-amd64\"\r\n",
        "os.environ[\"SPARK_HOME\"] = \"/content/spark-3.0.2-bin-hadoop2.7\""
      ],
      "execution_count": null,
      "outputs": []
    },
    {
      "cell_type": "code",
      "metadata": {
        "id": "UUJuC2AtrkVZ"
      },
      "source": [
        "import findspark\r\n",
        "findspark.init(\"/content/spark-3.0.2-bin-hadoop2.7\")\r\n"
      ],
      "execution_count": null,
      "outputs": []
    },
    {
      "cell_type": "code",
      "metadata": {
        "id": "NQvPCG2mt3Y_"
      },
      "source": [
        "import os\r\n",
        "os.environ['PYSPARK_SUBMIT_ARGS'] = \"--packages org.apache.spark:spark-avro_2.12:3.0.2 pyspark-shell\""
      ],
      "execution_count": null,
      "outputs": []
    },
    {
      "cell_type": "code",
      "metadata": {
        "id": "oT7wH8Y2fH7D"
      },
      "source": [
        "from pyspark import SparkContext, SparkConf\r\n",
        "conf = SparkConf().setAppName(\"mon application\").setMaster(\"local[4]\")\r\n",
        "sc = SparkContext(conf=conf)"
      ],
      "execution_count": null,
      "outputs": []
    },
    {
      "cell_type": "code",
      "metadata": {
        "id": "52wPCDRjgCxQ"
      },
      "source": [
        "from pyspark.sql import SparkSession\r\n",
        "spark = SparkSession.builder.config(conf=conf).getOrCreate()\r\n"
      ],
      "execution_count": null,
      "outputs": []
    },
    {
      "cell_type": "markdown",
      "metadata": {
        "id": "w1Dt51HpkMEj"
      },
      "source": [
        "# Données"
      ]
    },
    {
      "cell_type": "code",
      "metadata": {
        "id": "s2EFW5HLgx8l"
      },
      "source": [
        "!wget -q : http://qwone.com/~jason/20Newsgroups/20news-19997.tar.gz\r\n",
        "!tar xf 20news-19997.tar.gz\r\n"
      ],
      "execution_count": null,
      "outputs": []
    },
    {
      "cell_type": "markdown",
      "metadata": {
        "id": "mRFdhFWyVq3C"
      },
      "source": [
        "chargement des document alt.atheism et rec.sport.baseball dans 2 RDD \r\n",
        "\r\n"
      ]
    },
    {
      "cell_type": "code",
      "metadata": {
        "id": "QtBOGRcdCOdz"
      },
      "source": [
        "rdd1 = sc.wholeTextFiles(\"/content/20_newsgroups/alt.atheism\")\r\n",
        "rdd2 = sc.wholeTextFiles(\"/content/20_newsgroups/rec.sport.baseball\")"
      ],
      "execution_count": null,
      "outputs": []
    },
    {
      "cell_type": "markdown",
      "metadata": {
        "id": "BsUWlLNvV8YA"
      },
      "source": [
        "suppresion du chemin dans les RDD, on garde que le contenu des documents"
      ]
    },
    {
      "cell_type": "code",
      "metadata": {
        "id": "G8qrtr_hthYH"
      },
      "source": [
        "rdd1 = rdd1.map(lambda x: x[1])\r\n",
        "rdd2 = rdd2.map(lambda x: x[1])"
      ],
      "execution_count": null,
      "outputs": []
    },
    {
      "cell_type": "code",
      "metadata": {
        "colab": {
          "base_uri": "https://localhost:8080/",
          "height": 120
        },
        "id": "RJJGv-EetjBj",
        "outputId": "2cba84ad-b483-4049-8000-202f5c039e62"
      },
      "source": [
        "rdd1.first()\r\n"
      ],
      "execution_count": null,
      "outputs": [
        {
          "output_type": "execute_result",
          "data": {
            "application/vnd.google.colaboratory.intrinsic+json": {
              "type": "string"
            },
            "text/plain": [
              "\"From: Alan.Olsen@p17.f40.n105.z1.fidonet.org (Alan Olsen)\\nSender: postmaster@therose.pdx.com\\nPath: cantaloupe.srv.cs.cmu.edu!crabapple.srv.cs.cmu.edu!fs7.ece.cmu.edu!europa.eng.gtefsd.com!howland.reston.ans.net!zaphod.mps.ohio-state.edu!cs.utexas.edu!uunet!psgrain!qiclab!therose!postmaster\\nNewsgroups: alt.atheism\\nSubject: Albert Sabin\\nMessage-ID: <735424748.AA00436@therose.pdx.com>\\nDate: Wed, 21 Apr 1993 03:15:18 -0800\\nLines: 41\\n\\n\\nBR> From: wpr@atlanta.dg.com (Bill Rawlins)\\nBR> Newsgroups: alt.atheism\\nBR> Organization: DGSID, Atlanta, GA\\n\\nBR>         The problem is that most scientists exclude the\\nBR> possibility of the         supernatural in the question of\\nBR> origins.  Is this is a fair premise?         I utterly\\nBR> reject the hypothesis that science is the highest form of   \\nBR>      truth.\\n\\nIt is better than the crap that the creationists put out.  So far all they\\nhave been able to manage is distortions and half-truths. (When they are not\\ntaking quotes out of context...)\\n\\nBR>         Some of these so-called human-like creatures were\\nBR> apes.  Some were         humans.  Some were fancifully\\nBR> reconstructed from fragments. \\n\\nThe genetic code has shown more about how man is realted to primates that the\\nfossil record.  (A little detail the creationists try and ignore.)\\n\\nBR>            Good deeds do not justify a person in God's\\nBR> sight.            An atonement (Jesus) is needed to atone\\nBR> for sin.\\n\\nWho says?  Your Bible(tm)?\\tI would be surprised if *ANY* Christian followed\\nall of the rules in the Bible.  (Most of them just pick and choose, according\\nto the local biases.)\\n\\nBR>      My point: God is the creator.  Look's like we agree.\\n\\nWhere is your proof?  How do you know it was *YOUR* God?\\n\\nBR>      I'll send you some info via e-mail.\\nBR>      Regards, Bill.\\n\\nWhy not post them?\\tI would be interested in seeing them myself.\\n\\n                   Alan\\n\\n\""
            ]
          },
          "metadata": {
            "tags": []
          },
          "execution_count": 152
        }
      ]
    },
    {
      "cell_type": "code",
      "metadata": {
        "colab": {
          "base_uri": "https://localhost:8080/",
          "height": 120
        },
        "id": "57tpa3c_WMUR",
        "outputId": "0d72c381-639a-4d16-bd7c-53ad8151fa0e"
      },
      "source": [
        "rdd2.first()"
      ],
      "execution_count": null,
      "outputs": [
        {
          "output_type": "execute_result",
          "data": {
            "application/vnd.google.colaboratory.intrinsic+json": {
              "type": "string"
            },
            "text/plain": [
              "'Newsgroups: rec.sport.baseball\\nPath: cantaloupe.srv.cs.cmu.edu!rochester!udel!news.udel.edu!darwin.sura.net!haven.umd.edu!uunet!island!fester\\nFrom: fester@island.COM (Mike Fester)\\nSubject: Re: Bonilla\\nMessage-ID: <1993Apr23.200913.6611@island.COM>\\nSender: usenet@island.COM (The Usenet mail target)\\nOrganization: /usr/local/rn/organization\\nReferences: <13615@news.duke.edu> <1993Apr21.012139.13444@Princeton.EDU>\\nDate: Fri, 23 Apr 1993 20:09:13 GMT\\nLines: 25\\n\\nIn article <1993Apr21.012139.13444@Princeton.EDU> roger@astro.princeton.edu (Roger Lustig) writes:\\n\\n>When I say \"black,\" I mean US-born black people for the purposes of this\\n>discussion.  Hispanic players were in baseball before 1947, and one \\n>team in the 50\\'s signed lots of hispanics because they went over better\\n>with the local audience than blacks did.  \\n\\nWhat about black hispanics?\\n\\n>>And why would more hispanics stick around than blacks?\\n>\\n>Don\\'t know.  But remember: this is the country that had special racial\\n\\t\\t\\t    ^^^^^^^^^^^^^^^^^^^^^^^^^^^^^^^^^^^^^^^^^^^\\n>laws for one group and one group only: blacks.  Our national history \\n ^^^^^^^^^^^^^^^^^^^^^^^^^^^^^^^^^^^^^^^^^^^^^^\\n\\nMan, you had better do some SERIOUS reading. I really, really doubt that you\\nmeant to say this.\\n\\nMike\\n-- \\nDisclaimer - These opiini^H^H damn! ^H^H ^Q ^[ .... :w  :q  :wq  :wq! ^d  ^X ^?\\nexit X Q  ^C ^? :quitbye  CtrlAltDel   ~~q  :~q  logout  save/quit :!QUIT\\n^[zz ^[ZZZZZZ ^vi  man vi ^@  ^L  ^[c  ^# ^E ^X ^I ^T ? help  helpquit ^D  ^d !!\\nman help ^C ^c :e! help exit ?Quit ?q CtrlShftDel \"Hey, what does Stop L1A d...\"\\n'"
            ]
          },
          "metadata": {
            "tags": []
          },
          "execution_count": 153
        }
      ]
    },
    {
      "cell_type": "markdown",
      "metadata": {
        "id": "tlsHN11bWY1_"
      },
      "source": [
        "création de la fontion extractChamp pour extraire des different champs de l'entete"
      ]
    },
    {
      "cell_type": "code",
      "metadata": {
        "id": "8hnYMS6NXjLs"
      },
      "source": [
        "def extractChamp(data, category):\r\n",
        "    entete = data[0]\r\n",
        "    corps = data[1]\r\n",
        "    infoEntete = dict()\r\n",
        "\r\n",
        "    newGroup = 'Newsgroups: '\r\n",
        "    findNewGroup = entete.find(newGroup)\r\n",
        "    endNewGroup = entete[findNewGroup:-1].find('\\n')\r\n",
        "    infoEntete['newsGroups'] = entete[(findNewGroup + len(newGroup)):(findNewGroup + endNewGroup)].strip()\r\n",
        "\r\n",
        "    lines = 'Lines: '\r\n",
        "    findLines = entete.find(lines)\r\n",
        "    infoEntete['lines'] = entete[(findLines + len(lines)):-1].strip()\r\n",
        "\r\n",
        "    organization = 'Organization: '\r\n",
        "    findOrganization = entete.find(organization)\r\n",
        "    endOrganization = entete[findOrganization:-1].find('\\n')\r\n",
        "    infoEntete['organization'] = entete[(findOrganization + len(organization)):(findOrganization + endOrganization)].strip()\r\n",
        "\r\n",
        "    subject = 'Subject: '\r\n",
        "    findSubject = entete.find(subject)\r\n",
        "    endSubject = entete[findSubject:-1].find('\\n')\r\n",
        "    infoEntete['subject'] = entete[(findSubject + len(subject)):(findSubject + endSubject)].strip()\r\n",
        "\r\n",
        "    date = 'Date: '\r\n",
        "    findDate = entete.find(date)\r\n",
        "    endDate = entete[findDate:-1].find('\\n')\r\n",
        "    infoEntete['date'] = entete[(findDate + len(date)):(findDate + endDate)].strip()\r\n",
        "\r\n",
        "    infoEntete['category'] = category\r\n",
        "\r\n",
        "    return (infoEntete, corps)"
      ],
      "execution_count": null,
      "outputs": []
    },
    {
      "cell_type": "markdown",
      "metadata": {
        "id": "XhmMgWVafIu-"
      },
      "source": [
        "création des fonction findSeparator et splitHeadBody pour séparer l'entete du corps"
      ]
    },
    {
      "cell_type": "code",
      "metadata": {
        "id": "WykeLvmBWc_2"
      },
      "source": [
        "import re\r\n",
        "\r\n",
        "def findSeparator(elem):\r\n",
        "    findSeparator = re.search('Lines: [0-9]+\\n+',elem)\r\n",
        "    if (findSeparator):\r\n",
        "        return findSeparator.end()\r\n",
        "    else:\r\n",
        "        findSeparator = re.search('GMT\\n', elem)\r\n",
        "    return findSeparator.end()\r\n",
        "\r\n",
        "def splitHeadBody(elem):\r\n",
        "    separator = findSeparator(elem)\r\n",
        "    return (elem[0:separator].strip(), elem[separator:-1].strip())\r\n"
      ],
      "execution_count": null,
      "outputs": []
    },
    {
      "cell_type": "code",
      "metadata": {
        "id": "KdvRm4QLWvqC"
      },
      "source": [
        "altheismSplit = rdd1.map(splitHeadBody)\r\n",
        "baseballSplit = rdd2.map(splitHeadBody)\r\n",
        "altheism = altheismSeparate.map(lambda x: extractChamp(x,'altheism'))\r\n",
        "baseball = baseballSeparate.map(lambda x: extractChamp(x,'baseball'))"
      ],
      "execution_count": null,
      "outputs": []
    },
    {
      "cell_type": "code",
      "metadata": {
        "id": "MgqdxFbLYTch"
      },
      "source": [
        "RDD = altheism.union(baseball)"
      ],
      "execution_count": null,
      "outputs": []
    },
    {
      "cell_type": "markdown",
      "metadata": {
        "id": "Vgrev8nFfhiq"
      },
      "source": [
        "model des RDD"
      ]
    },
    {
      "cell_type": "code",
      "metadata": {
        "id": "txBNOc_3iNq0",
        "colab": {
          "base_uri": "https://localhost:8080/"
        },
        "outputId": "e9fe4be9-e311-4b11-8acc-d8134c019ea6"
      },
      "source": [
        "RDD.take(2)"
      ],
      "execution_count": null,
      "outputs": [
        {
          "output_type": "execute_result",
          "data": {
            "text/plain": [
              "[({'category': 'altheism',\n",
              "   'date': 'Wed, 21 Apr 1993 03:15:18 -0800',\n",
              "   'lines': '4',\n",
              "   'newsGroups': 'alt.atheism',\n",
              "   'organization': 'sen@p17.f40.n105.z1.fidonet.org (Alan Olsen)\\nSender: postmaster@therose.pdx.com\\nPath: cantaloupe.srv.cs.cmu.edu!crabapple.srv.cs.cmu.edu!fs7.ece.cmu.edu!europa.eng.gtefsd.com!howland.reston.ans.net!zaphod.mps.ohio-state.edu!cs.utexas.edu!uunet!psgrain!qiclab!therose!postmaster\\nNewsgroups: alt.atheism\\nSubject: Albert Sabin\\nMessage-ID: <735424748.AA00436@therose.pdx.com>\\nDate: Wed, 21 Apr 1993 03:15:18 -0800\\nLines:',\n",
              "   'subject': 'Albert Sabin'},\n",
              "  \"BR> From: wpr@atlanta.dg.com (Bill Rawlins)\\nBR> Newsgroups: alt.atheism\\nBR> Organization: DGSID, Atlanta, GA\\n\\nBR>         The problem is that most scientists exclude the\\nBR> possibility of the         supernatural in the question of\\nBR> origins.  Is this is a fair premise?         I utterly\\nBR> reject the hypothesis that science is the highest form of   \\nBR>      truth.\\n\\nIt is better than the crap that the creationists put out.  So far all they\\nhave been able to manage is distortions and half-truths. (When they are not\\ntaking quotes out of context...)\\n\\nBR>         Some of these so-called human-like creatures were\\nBR> apes.  Some were         humans.  Some were fancifully\\nBR> reconstructed from fragments. \\n\\nThe genetic code has shown more about how man is realted to primates that the\\nfossil record.  (A little detail the creationists try and ignore.)\\n\\nBR>            Good deeds do not justify a person in God's\\nBR> sight.            An atonement (Jesus) is needed to atone\\nBR> for sin.\\n\\nWho says?  Your Bible(tm)?\\tI would be surprised if *ANY* Christian followed\\nall of the rules in the Bible.  (Most of them just pick and choose, according\\nto the local biases.)\\n\\nBR>      My point: God is the creator.  Look's like we agree.\\n\\nWhere is your proof?  How do you know it was *YOUR* God?\\n\\nBR>      I'll send you some info via e-mail.\\nBR>      Regards, Bill.\\n\\nWhy not post them?\\tI would be interested in seeing them myself.\\n\\n                   Alan\"),\n",
              " ({'category': 'altheism',\n",
              "   'date': '16 Apr 93 21:25:26 GMT',\n",
              "   'lines': '3',\n",
              "   'newsGroups': 'alt.atheism,soc.culture.arabic,soc.culture.pakistan,soc.culture.turkish',\n",
              "   'organization': 'upe.srv.cs.cmu.edu alt.atheism:54165 soc.culture.arabic:18826 soc.culture.pakistan:38576 soc.culture.turkish:34063\\nPath: cantaloupe.srv.cs.cmu.edu!rochester!udel!gatech!emory!sol.ctr.columbia.edu!ursa!pooh!halat\\nFrom: halat@pooh.bears (Jim Halat)\\nNewsgroups: alt.atheism,soc.culture.arabic,soc.culture.pakistan,soc.culture.turkish\\nSubject: Re: The nonexistance of Atheists?!\\nMessage-ID: <30137@ursa.bear.com>\\nDate: 16 Apr 93 21:25:26 GMT\\nReferences: <1pibs8$170@usenet.INS.CWRU.Edu> <C4xAn6.8I9@uceng.uc.edu> <kutluk.734797558@ccl.umist.ac.uk> <C5Iwuz.Fzv@news.chalmers.se>\\nSender: news@bear.com\\nReply-To: halat@pooh.bears (Jim Halat)\\nLines:',\n",
              "   'subject': 'Re: The nonexistance of Atheists?!'},\n",
              "  \">In article <kutluk.734797558@ccl.umist.ac.uk> kutluk@ccl.umist.ac.uk (Kutluk Ozguven) writes:\\n>>Atheists are not\\n>>mentioned in the Quran because from a Quranic point of view, and a\\n>>minute's reasoning, one can see that there is no such thing.\\n\\n\\nI guess that's why scientists probably aren't mentioned either.  Or\\nstock brokers.  Or television repairmen.  \\n\\nIt's precious to know just how deep the brainwashing from childhood\\n( that it takes to progress a religion ) cleans away a very substantial\\npart of the reasoning neurons.\\n\\nBut don't mind me;  I don't exist.\\n\\n-jim halat\")]"
            ]
          },
          "metadata": {
            "tags": []
          },
          "execution_count": 182
        }
      ]
    },
    {
      "cell_type": "markdown",
      "metadata": {
        "id": "M2XVEHjhfk3A"
      },
      "source": [
        "on transforme chaque ligne du RDD en Row pour pouvoir retrouver chaque champs quand on va transformer le RDD en Dataframe."
      ]
    },
    {
      "cell_type": "code",
      "metadata": {
        "id": "zueLXh8biujA"
      },
      "source": [
        "from pyspark.sql import Row\r\n",
        "rowRDD = RDD.map(lambda x : Row(x[0]['newsGroups'],x[0]['lines'],x[0]['organization'],x[0]['subject'],x[0]['date'],x[0]['category'],x[1]))"
      ],
      "execution_count": null,
      "outputs": []
    },
    {
      "cell_type": "markdown",
      "metadata": {
        "id": "cxdgEleAf79m"
      },
      "source": [
        "création de la structure du dataframe"
      ]
    },
    {
      "cell_type": "code",
      "metadata": {
        "id": "OfM0fhaszp3m"
      },
      "source": [
        "from pyspark.sql.types import *\r\n",
        "schema = StructType([\r\n",
        "StructField(\"newsGroups\", StringType(), True),\r\n",
        "StructField(\"lines\", StringType(), True),\r\n",
        "StructField(\"organization\", StringType(), True),\r\n",
        "StructField(\"subject\", StringType(), True),\r\n",
        "StructField(\"date\", StringType(), True),\r\n",
        "StructField(\"category\", StringType(), True),\r\n",
        "StructField(\"content\", StringType(), True)])"
      ],
      "execution_count": null,
      "outputs": []
    },
    {
      "cell_type": "markdown",
      "metadata": {
        "id": "igO8DaQHgA4T"
      },
      "source": [
        "création du dataframe avec la structure crée"
      ]
    },
    {
      "cell_type": "code",
      "metadata": {
        "id": "D5qo83uYi6Jr"
      },
      "source": [
        "dfWithoutSchema = spark.createDataFrame(rowRDD,schema)"
      ],
      "execution_count": null,
      "outputs": []
    },
    {
      "cell_type": "code",
      "metadata": {
        "colab": {
          "base_uri": "https://localhost:8080/"
        },
        "id": "7soyVMLe5Lm5",
        "outputId": "993750de-67dc-46a6-b764-8cb15821d709"
      },
      "source": [
        "dfWithoutSchema.show()"
      ],
      "execution_count": null,
      "outputs": [
        {
          "output_type": "stream",
          "text": [
            "+--------------------+-----+--------------------+--------------------+--------------------+--------+--------------------+\n",
            "|          newsGroups|lines|        organization|             subject|                date|category|             content|\n",
            "+--------------------+-----+--------------------+--------------------+--------------------+--------+--------------------+\n",
            "|         alt.atheism|    4|sen@p17.f40.n105....|        Albert Sabin|Wed, 21 Apr 1993 ...|altheism|BR> From: wpr@atl...|\n",
            "|alt.atheism,soc.c...|    3|upe.srv.cs.cmu.ed...|Re: The nonexista...|16 Apr 93 21:25:2...|altheism|>In article <kutl...|\n",
            "|         alt.atheism|    2|upe.srv.cs.cmu.ed...|Re: A Little Too ...|23 Apr 93 02:43:0...|altheism|Jon Livesey write...|\n",
            "|alt.atheism,talk....|    2|Sponsored account...|Re: The Universe ...|Tue, 20 Apr 1993 ...|altheism|Message-ID: <Efp2...|\n",
            "|         alt.atheism|    7|                  NH|Re: Yet more Rush...|Thu, 15 Apr 1993 ...|altheism|In article <1993A...|\n",
            "|alt.atheism,talk....|    1|California Instit...|    Re: Albert Sabin|2 Apr 93 20:54:30...|altheism|NNTP-Posting-Host...|\n",
            "|         alt.atheism|    2|Technical Univers...|Re: An Anecdote a...|Mon, 5 Apr 1993 1...|altheism|In article <11412...|\n",
            "|         alt.atheism|   22|California Instit...|Re: >>>>>>Pompous...|4 Apr 1993 09:39:...|altheism|Message-ID: <1pma...|\n",
            "|         alt.atheism|    4|Technical Univers...|Re: Poisoning the...|Mon, 26 Apr 1993 ...|altheism|In article <1rbpq...|\n",
            "|alt.atheism,talk....|    3|upe.srv.cs.cmu.ed...|Re: Rawlins debun...|23 Apr 93 22:37:2...|altheism|In article <1r9fu...|\n",
            "|         alt.atheism|    4|Kupajava, East of...|Re: Islamic marri...|Tue, 6 Apr 1993 0...|altheism|>DATE:   Tue, 6 A...|\n",
            "|         alt.atheism|    4|California Instit...|Re: <Political At...|2 Apr 1993 21:22:...|altheism|Message-ID: <1pia...|\n",
            "|         alt.atheism|    5|Technical Univers...|     Re: Yeah, Right|Tue, 6 Apr 1993 1...|altheism|In article <66014...|\n",
            "|         alt.atheism|    5|Arizona State Uni...|Re: Islam & Dress...|Tue, 6 Apr 1993 0...|altheism|In article <16BA7...|\n",
            "|         alt.atheism|    3|Technical Univers...|Re: Yet more Rush...|Wed, 21 Apr 1993 ...|altheism|In article <11617...|\n",
            "|alt.atheism,talk....|    2|upe.srv.cs.cmu.ed...|Re: Rawlins debun...|20 Apr 93 20:35:2...|altheism|In article <C5snC...|\n",
            "|         alt.atheism|    2|Monash University...|Re: Ancient islam...|Tue, 6 Apr 1993 1...|altheism|In <16BA6C947.I31...|\n",
            "|         alt.atheism|    6|Boston University...|Re: The Inimitabl...|15 Apr 93 22:18:1...|altheism|In article <1993A...|\n",
            "|         alt.atheism|    4|U of Arizona CS D...|Re: Death Penalty...|22 Apr 93 22:17:0...|altheism|In article <1993A...|\n",
            "|         alt.atheism|    2|Case Western Rese...|Re: Is Morality C...|6 Apr 93 19:57:18...|altheism|In article <C4w5p...|\n",
            "+--------------------+-----+--------------------+--------------------+--------------------+--------+--------------------+\n",
            "only showing top 20 rows\n",
            "\n"
          ],
          "name": "stdout"
        }
      ]
    },
    {
      "cell_type": "markdown",
      "metadata": {
        "id": "gKivi5PogIK_"
      },
      "source": [
        "sauvegarde du dataframe au format parquet"
      ]
    },
    {
      "cell_type": "code",
      "metadata": {
        "id": "uNA5Eh3uwn5P"
      },
      "source": [
        "dfWithoutSchema.write.parquet(\"output/data.parquet\")"
      ],
      "execution_count": null,
      "outputs": []
    },
    {
      "cell_type": "markdown",
      "metadata": {
        "id": "FmSOqIBzgPmB"
      },
      "source": [
        "sauvegarde du dataframe au format avro"
      ]
    },
    {
      "cell_type": "code",
      "metadata": {
        "id": "SHQTAnzL7uuK"
      },
      "source": [
        "dfWithoutSchema.write.format(\"avro\").save(\"output/data.avro\")"
      ],
      "execution_count": null,
      "outputs": []
    },
    {
      "cell_type": "markdown",
      "metadata": {
        "id": "wSdDpJKtkS1N"
      },
      "source": [
        "# Analyse descriptive"
      ]
    },
    {
      "cell_type": "code",
      "metadata": {
        "colab": {
          "base_uri": "https://localhost:8080/"
        },
        "id": "Jj2sfwCskW8s",
        "outputId": "4619db71-f00e-4026-ce32-b1053ccdf129"
      },
      "source": [
        "dfWithoutSchema.printSchema()"
      ],
      "execution_count": null,
      "outputs": [
        {
          "output_type": "stream",
          "text": [
            "root\n",
            " |-- newsGroups: string (nullable = true)\n",
            " |-- lines: string (nullable = true)\n",
            " |-- organization: string (nullable = true)\n",
            " |-- subject: string (nullable = true)\n",
            " |-- date: string (nullable = true)\n",
            " |-- category: string (nullable = true)\n",
            " |-- content: string (nullable = true)\n",
            "\n"
          ],
          "name": "stdout"
        }
      ]
    },
    {
      "cell_type": "code",
      "metadata": {
        "id": "6pC_-qjf-mny"
      },
      "source": [
        "df = dfWithoutSchema"
      ],
      "execution_count": null,
      "outputs": []
    },
    {
      "cell_type": "code",
      "metadata": {
        "colab": {
          "base_uri": "https://localhost:8080/"
        },
        "id": "OjOgxvS7CWuH",
        "outputId": "771505fe-a62c-4118-a79b-4b7f557141ed"
      },
      "source": [
        "df.select('category').distinct().count()"
      ],
      "execution_count": null,
      "outputs": [
        {
          "output_type": "execute_result",
          "data": {
            "text/plain": [
              "2"
            ]
          },
          "metadata": {
            "tags": []
          },
          "execution_count": 25
        }
      ]
    },
    {
      "cell_type": "markdown",
      "metadata": {
        "id": "Hms44o3RgVz8"
      },
      "source": [
        "on retrouve bien 2 catégorie differente dans notre dataframe"
      ]
    },
    {
      "cell_type": "code",
      "metadata": {
        "colab": {
          "base_uri": "https://localhost:8080/"
        },
        "id": "t0OEbCzFCuU9",
        "outputId": "98c6b849-199a-46b0-81ba-a89ba438b9b6"
      },
      "source": [
        "df.select('organization').distinct().count()"
      ],
      "execution_count": null,
      "outputs": [
        {
          "output_type": "execute_result",
          "data": {
            "text/plain": [
              "578"
            ]
          },
          "metadata": {
            "tags": []
          },
          "execution_count": 26
        }
      ]
    },
    {
      "cell_type": "markdown",
      "metadata": {
        "id": "UB3I49W3ggZs"
      },
      "source": [
        "on peut voir qu'il y a 578 organisation différentes"
      ]
    },
    {
      "cell_type": "code",
      "metadata": {
        "colab": {
          "base_uri": "https://localhost:8080/"
        },
        "id": "RKzw38Z-C_OF",
        "outputId": "2defabef-a450-499d-de4b-ed025a7e5cf9"
      },
      "source": [
        "from pyspark.sql.functions import col, countDistinct\r\n",
        "\r\n",
        "df.agg(*(countDistinct(col(c)).alias(c) for c in df.columns)).show()"
      ],
      "execution_count": null,
      "outputs": [
        {
          "output_type": "stream",
          "text": [
            "+----------+-----+------------+-------+----+--------+-------+\n",
            "|newsGroups|lines|organization|subject|date|category|content|\n",
            "+----------+-----+------------+-------+----+--------+-------+\n",
            "|        36|   43|         578|    762|1994|       2|   1994|\n",
            "+----------+-----+------------+-------+----+--------+-------+\n",
            "\n"
          ],
          "name": "stdout"
        }
      ]
    },
    {
      "cell_type": "markdown",
      "metadata": {
        "id": "jGhcq410glnG"
      },
      "source": [
        "on a utiliser un countDistinct sur toute les colones pour avoir le nombre de champs différent dans toute les colones."
      ]
    },
    {
      "cell_type": "code",
      "metadata": {
        "id": "rM9-aS_eAoac"
      },
      "source": [
        "import matplotlib.pyplot as plt"
      ],
      "execution_count": null,
      "outputs": []
    },
    {
      "cell_type": "code",
      "metadata": {
        "colab": {
          "base_uri": "https://localhost:8080/",
          "height": 476
        },
        "id": "tEs5Sn1a_mEO",
        "outputId": "8bbb9995-6af6-4398-b937-d9bb01d24e1e"
      },
      "source": [
        "category = df.cube(\"category\").count()\r\n",
        "category= category.na.drop()\r\n",
        "category.select('category').distinct().count()\r\n",
        "\r\n",
        "labels = category.select('category')\r\n",
        "labels = labels.toPandas()\r\n",
        "labels = labels.to_numpy()\r\n",
        "labels = labels.reshape(len(labels))\r\n",
        "sizes =  category.select('count')\r\n",
        "sizes = sizes.toPandas()\r\n",
        "sizes = sizes.to_numpy()\r\n",
        "sizes = sizes.reshape(len(sizes))\r\n",
        "\r\n",
        "# Plot\r\n",
        "plt.figure(figsize=(10,8))\r\n",
        "plt.pie(sizes, labels=labels, shadow=True)\r\n",
        "\r\n",
        "plt.axis('equal')\r\n",
        "plt.show()"
      ],
      "execution_count": null,
      "outputs": [
        {
          "output_type": "display_data",
          "data": {
            "image/png": "[encoded data removed]",
            "text/plain": [
              "<Figure size 720x576 with 1 Axes>"
            ]
          },
          "metadata": {
            "tags": []
          }
        }
      ]
    },
    {
      "cell_type": "code",
      "metadata": {
        "id": "JGQKXSr974-C"
      },
      "source": [
        "newsgroup = df.cube(\"newsGroups\").count()\r\n",
        "newsgroup= newsgroup.na.drop()\r\n",
        "newsgroup.select('newsGroups').distinct().count()"
      ],
      "execution_count": null,
      "outputs": []
    },
    {
      "cell_type": "code",
      "metadata": {
        "colab": {
          "base_uri": "https://localhost:8080/",
          "height": 472
        },
        "id": "XfYLTrMt59rx",
        "outputId": "93771bac-9732-418d-d02e-27072a9fa7b7"
      },
      "source": [
        "\r\n",
        "# Data to plot\r\n",
        "labels = newsgroup.select('newsGroups')\r\n",
        "labels = labels.toPandas()\r\n",
        "labels = labels.to_numpy()\r\n",
        "labels = labels.reshape(len(labels))\r\n",
        "sizes =  newsgroup.select('count')\r\n",
        "sizes = sizes.toPandas()\r\n",
        "sizes = sizes.to_numpy()\r\n",
        "sizes = sizes.reshape(len(sizes))\r\n",
        "\r\n",
        "# Plot\r\n",
        "plt.figure(figsize=(10,8))\r\n",
        "plt.pie(sizes, labels=labels, shadow=True)\r\n",
        "\r\n",
        "plt.axis('equal')\r\n",
        "plt.show()"
      ],
      "execution_count": null,
      "outputs": [
        {
          "output_type": "display_data",
          "data": {
            "image/png": "[encoded data removed]",
            "text/plain": [
              "<Figure size 720x576 with 1 Axes>"
            ]
          },
          "metadata": {
            "tags": []
          }
        }
      ]
    },
    {
      "cell_type": "markdown",
      "metadata": {
        "id": "i8v84tZuRGoB"
      },
      "source": [
        "# Transformation du texte et clustering"
      ]
    },
    {
      "cell_type": "markdown",
      "metadata": {
        "id": "rHS57naog-0M"
      },
      "source": [
        "on tokenize le contenu des mails et on crée une représentation vectoriel des mots dans features"
      ]
    },
    {
      "cell_type": "code",
      "metadata": {
        "id": "yyChyogtNyk6"
      },
      "source": [
        "from pyspark.ml.feature import HashingTF, IDF, Tokenizer\r\n",
        "tokenizer = Tokenizer(inputCol=\"content\", outputCol=\"words\")\r\n",
        "wordsData = tokenizer.transform(df)\r\n",
        "hashingTF = HashingTF(inputCol=\"words\", outputCol=\"features\", numFeatures=20)\r\n",
        "featurizedData = hashingTF.transform(wordsData)"
      ],
      "execution_count": null,
      "outputs": []
    },
    {
      "cell_type": "code",
      "metadata": {
        "colab": {
          "base_uri": "https://localhost:8080/"
        },
        "id": "eGXW23vaOQiL",
        "outputId": "60828102-0eee-4939-fc9d-23cdb50c9fb7"
      },
      "source": [
        "featurizedData.show()"
      ],
      "execution_count": null,
      "outputs": [
        {
          "output_type": "stream",
          "text": [
            "+--------------------+-----+--------------------+--------------------+--------------------+--------+--------------------+--------------------+--------------------+\n",
            "|          newsGroups|lines|        organization|             subject|                date|category|             content|               words|            features|\n",
            "+--------------------+-----+--------------------+--------------------+--------------------+--------+--------------------+--------------------+--------------------+\n",
            "|         alt.atheism|    4|sen@p17.f40.n105....|        Albert Sabin|Wed, 21 Apr 1993 ...|altheism|BR> From: wpr@atl...|[br>, from:, wpr@...|(20,[0,1,2,3,4,5,...|\n",
            "|alt.atheism,soc.c...|    3|upe.srv.cs.cmu.ed...|Re: The nonexista...|16 Apr 93 21:25:2...|altheism|>In article <kutl...|[>in, article, <k...|(20,[0,1,2,3,4,5,...|\n",
            "|         alt.atheism|    2|upe.srv.cs.cmu.ed...|Re: A Little Too ...|23 Apr 93 02:43:0...|altheism|Jon Livesey write...|[jon, livesey, wr...|(20,[0,1,2,3,4,5,...|\n",
            "|alt.atheism,talk....|    2|Sponsored account...|Re: The Universe ...|Tue, 20 Apr 1993 ...|altheism|Message-ID: <Efp2...|[message-id:, <ef...|(20,[0,1,2,3,4,5,...|\n",
            "|         alt.atheism|    7|                  NH|Re: Yet more Rush...|Thu, 15 Apr 1993 ...|altheism|In article <1993A...|[in, article, <19...|(20,[0,1,2,3,4,5,...|\n",
            "|alt.atheism,talk....|    1|California Instit...|    Re: Albert Sabin|2 Apr 93 20:54:30...|altheism|NNTP-Posting-Host...|[nntp-posting-hos...|(20,[0,1,3,4,5,6,...|\n",
            "|         alt.atheism|    2|Technical Univers...|Re: An Anecdote a...|Mon, 5 Apr 1993 1...|altheism|In article <11412...|[in, article, <11...|(20,[0,1,2,3,4,5,...|\n",
            "|         alt.atheism|   22|California Instit...|Re: >>>>>>Pompous...|4 Apr 1993 09:39:...|altheism|Message-ID: <1pma...|[message-id:, <1p...|(20,[0,1,2,3,4,5,...|\n",
            "|         alt.atheism|    4|Technical Univers...|Re: Poisoning the...|Mon, 26 Apr 1993 ...|altheism|In article <1rbpq...|[in, article, <1r...|(20,[0,1,2,3,4,5,...|\n",
            "|alt.atheism,talk....|    3|upe.srv.cs.cmu.ed...|Re: Rawlins debun...|23 Apr 93 22:37:2...|altheism|In article <1r9fu...|[in, article, <1r...|(20,[0,1,2,3,4,5,...|\n",
            "|         alt.atheism|    4|Kupajava, East of...|Re: Islamic marri...|Tue, 6 Apr 1993 0...|altheism|>DATE:   Tue, 6 A...|[>date:, , , tue,...|(20,[0,1,2,3,4,5,...|\n",
            "|         alt.atheism|    4|California Instit...|Re: <Political At...|2 Apr 1993 21:22:...|altheism|Message-ID: <1pia...|[message-id:, <1p...|(20,[0,1,2,3,4,5,...|\n",
            "|         alt.atheism|    5|Technical Univers...|     Re: Yeah, Right|Tue, 6 Apr 1993 1...|altheism|In article <66014...|[in, article, <66...|(20,[0,1,2,3,4,5,...|\n",
            "|         alt.atheism|    5|Arizona State Uni...|Re: Islam & Dress...|Tue, 6 Apr 1993 0...|altheism|In article <16BA7...|[in, article, <16...|(20,[0,1,2,3,4,5,...|\n",
            "|         alt.atheism|    3|Technical Univers...|Re: Yet more Rush...|Wed, 21 Apr 1993 ...|altheism|In article <11617...|[in, article, <11...|(20,[0,1,2,3,4,5,...|\n",
            "|alt.atheism,talk....|    2|upe.srv.cs.cmu.ed...|Re: Rawlins debun...|20 Apr 93 20:35:2...|altheism|In article <C5snC...|[in, article, <c5...|(20,[0,1,2,3,4,5,...|\n",
            "|         alt.atheism|    2|Monash University...|Re: Ancient islam...|Tue, 6 Apr 1993 1...|altheism|In <16BA6C947.I31...|[in, <16ba6c947.i...|(20,[0,1,2,3,4,5,...|\n",
            "|         alt.atheism|    6|Boston University...|Re: The Inimitabl...|15 Apr 93 22:18:1...|altheism|In article <1993A...|[in, article, <19...|(20,[0,1,2,3,4,5,...|\n",
            "|         alt.atheism|    4|U of Arizona CS D...|Re: Death Penalty...|22 Apr 93 22:17:0...|altheism|In article <1993A...|[in, article, <19...|(20,[0,1,2,3,4,5,...|\n",
            "|         alt.atheism|    2|Case Western Rese...|Re: Is Morality C...|6 Apr 93 19:57:18...|altheism|In article <C4w5p...|[in, article, <c4...|(20,[0,1,2,3,4,5,...|\n",
            "+--------------------+-----+--------------------+--------------------+--------------------+--------+--------------------+--------------------+--------------------+\n",
            "only showing top 20 rows\n",
            "\n"
          ],
          "name": "stdout"
        }
      ]
    },
    {
      "cell_type": "markdown",
      "metadata": {
        "id": "e6LJGhTJhWDF"
      },
      "source": [
        "on fait un kmeans sur le contenu des mails"
      ]
    },
    {
      "cell_type": "code",
      "metadata": {
        "colab": {
          "base_uri": "https://localhost:8080/"
        },
        "id": "CcN9rsQoPyit",
        "outputId": "76677565-d308-4179-dbe1-81af46fd9497"
      },
      "source": [
        "from pyspark.ml.clustering import KMeans\r\n",
        "from pyspark.ml.evaluation import ClusteringEvaluator\r\n",
        "\r\n",
        "\r\n",
        "# Trains a k-means model.\r\n",
        "kmeans = KMeans().setK(2).setSeed(1)\r\n",
        "model = kmeans.fit(featurizedData)\r\n",
        "\r\n",
        "# Make predictions\r\n",
        "predictions = model.transform(featurizedData)\r\n",
        "\r\n",
        "# Evaluate clustering by computing Silhouette score\r\n",
        "evaluator = ClusteringEvaluator()\r\n",
        "\r\n",
        "silhouette = evaluator.evaluate(predictions)\r\n",
        "print(\"Silhouette with squared euclidean distance = \" + str(silhouette))\r\n",
        "\r\n",
        "# Shows the result.\r\n",
        "centers = model.clusterCenters()\r\n",
        "print(\"Cluster Centers: \")\r\n",
        "for center in centers:\r\n",
        "    print(center)"
      ],
      "execution_count": null,
      "outputs": [
        {
          "output_type": "stream",
          "text": [
            "Silhouette with squared euclidean distance = 0.9949627289244067\n",
            "Cluster Centers: \n",
            "[16.75889724 11.33784461  8.25914787 18.84511278 12.39849624 12.44912281\n",
            " 12.43107769 12.78345865 16.29974937 16.05062657  9.72431078 12.76842105\n",
            " 63.15137845 11.82807018  8.25714286 16.31578947 13.55588972 19.07218045\n",
            "  9.34085213 11.23759398]\n",
            "[ 149.4  135.    95.4  165.8  111.4  133.6  128.6  136.4  178.8  146.\n",
            "   94.   132.4 3031.2  114.4   86.8  187.   106.4  225.4   94.   106.2]\n"
          ],
          "name": "stdout"
        }
      ]
    },
    {
      "cell_type": "code",
      "metadata": {
        "colab": {
          "base_uri": "https://localhost:8080/"
        },
        "id": "9kDZNQK2RIwi",
        "outputId": "2419cc0c-eb65-47e6-b51d-5f53620cc54f"
      },
      "source": [
        "predictions.select(\"prediction\").distinct().count()"
      ],
      "execution_count": null,
      "outputs": [
        {
          "output_type": "execute_result",
          "data": {
            "text/plain": [
              "2"
            ]
          },
          "metadata": {
            "tags": []
          },
          "execution_count": 121
        }
      ]
    },
    {
      "cell_type": "code",
      "metadata": {
        "colab": {
          "base_uri": "https://localhost:8080/"
        },
        "id": "TyoePUiLxLmm",
        "outputId": "0be769c4-38b6-4c7c-a97f-54f05b94a8b7"
      },
      "source": [
        "predict = predictions.select(\"prediction\")\r\n",
        "predict = predict.toPandas()\r\n",
        "predict = predict.to_numpy()\r\n",
        "predict"
      ],
      "execution_count": null,
      "outputs": [
        {
          "output_type": "execute_result",
          "data": {
            "text/plain": [
              "array([[0],\n",
              "       [0],\n",
              "       [0],\n",
              "       ...,\n",
              "       [0],\n",
              "       [0],\n",
              "       [0]], dtype=int32)"
            ]
          },
          "metadata": {
            "tags": []
          },
          "execution_count": 66
        }
      ]
    },
    {
      "cell_type": "code",
      "metadata": {
        "id": "H3H4IrHEyXR2"
      },
      "source": [
        "import pandas as pd\r\n",
        "from pyspark.sql.functions import when\r\n",
        "basePartition = dfWithoutSchema.select('category')\r\n",
        "basePartition = basePartition.withColumn(\"category\", when(col(\"category\") == \"altheism\",\"0\")\r\n",
        "                                 .otherwise(\"1\"))\r\n",
        "basePartition = basePartition.toPandas()\r\n",
        "basePartition= basePartition.to_numpy()"
      ],
      "execution_count": null,
      "outputs": []
    },
    {
      "cell_type": "code",
      "metadata": {
        "id": "3PXuI3BG2ZeJ"
      },
      "source": [
        "predict = predict.reshape(2000)\r\n",
        "basePartition = basePartition.reshape(2000)"
      ],
      "execution_count": null,
      "outputs": []
    },
    {
      "cell_type": "code",
      "metadata": {
        "colab": {
          "base_uri": "https://localhost:8080/"
        },
        "id": "ey5BjDLVvf_U",
        "outputId": "1887b3ee-e31c-41b4-c418-4a1443a039a0"
      },
      "source": [
        "import numpy as np\r\n",
        "np.unique(prediction)"
      ],
      "execution_count": null,
      "outputs": [
        {
          "output_type": "execute_result",
          "data": {
            "text/plain": [
              "array([0, 1], dtype=int32)"
            ]
          },
          "metadata": {
            "tags": []
          },
          "execution_count": 46
        }
      ]
    },
    {
      "cell_type": "code",
      "metadata": {
        "colab": {
          "base_uri": "https://localhost:8080/"
        },
        "id": "j8w9SHcv1tPD",
        "outputId": "817c918b-55a7-4207-a7e4-04789f5b7bcf"
      },
      "source": [
        "from sklearn.metrics.cluster import normalized_mutual_info_score\r\n",
        "normalized_mutual_info_score(predict, basePartition)"
      ],
      "execution_count": null,
      "outputs": [
        {
          "output_type": "execute_result",
          "data": {
            "text/plain": [
              "0.00014202781911687058"
            ]
          },
          "metadata": {
            "tags": []
          },
          "execution_count": 81
        }
      ]
    },
    {
      "cell_type": "markdown",
      "metadata": {
        "id": "L-OOjvPT3jyY"
      },
      "source": [
        "la qualité du kmeans est mauvais comme le NMI est tres faible et proche de 0. on ne retrouve pas les deux catégory a partir du contenu des mails."
      ]
    },
    {
      "cell_type": "markdown",
      "metadata": {
        "id": "GZy15MvORJJq"
      },
      "source": [
        "# Implémentation de K-means unidimensionnel\r\n"
      ]
    },
    {
      "cell_type": "code",
      "metadata": {
        "id": "kcbK4U8wRC0X"
      },
      "source": [
        "def compute_centroids(rdd1,rdd2):\r\n",
        "  sum_by_cluster_id = \r\n",
        "  count_by_cluster_id = \r\n",
        "def assign_clusters(rdd1,rdd2):\r\n"
      ],
      "execution_count": null,
      "outputs": []
    },
    {
      "cell_type": "code",
      "metadata": {
        "colab": {
          "base_uri": "https://localhost:8080/"
        },
        "id": "H1_24Jv7tt11",
        "outputId": "143b831b-a732-4f3c-b148-c651e5ad0293"
      },
      "source": [
        "!pip install \"coclust[alldeps]\""
      ],
      "execution_count": null,
      "outputs": [
        {
          "output_type": "stream",
          "text": [
            "Collecting coclust[alldeps]\n",
            "  Downloading https://files.pythonhosted.org/packages/5d/44/ad5a69c7187c2b7bcf2c45596e9052811a3be52f4fcaa6709937c5146ee2/coclust-0.2.1.tar.gz\n",
            "Requirement already satisfied: numpy in /usr/local/lib/python3.7/dist-packages (from coclust[alldeps]) (1.19.5)\n",
            "Requirement already satisfied: scipy in /usr/local/lib/python3.7/dist-packages (from coclust[alldeps]) (1.4.1)\n",
            "Requirement already satisfied: scikit-learn in /usr/local/lib/python3.7/dist-packages (from coclust[alldeps]) (0.22.2.post1)\n",
            "Requirement already satisfied: matplotlib>=1.5 in /usr/local/lib/python3.7/dist-packages (from coclust[alldeps]) (3.2.2)\n",
            "Requirement already satisfied: joblib>=0.11 in /usr/local/lib/python3.7/dist-packages (from scikit-learn->coclust[alldeps]) (1.0.1)\n",
            "Requirement already satisfied: kiwisolver>=1.0.1 in /usr/local/lib/python3.7/dist-packages (from matplotlib>=1.5->coclust[alldeps]) (1.3.1)\n",
            "Requirement already satisfied: pyparsing!=2.0.4,!=2.1.2,!=2.1.6,>=2.0.1 in /usr/local/lib/python3.7/dist-packages (from matplotlib>=1.5->coclust[alldeps]) (2.4.7)\n",
            "Requirement already satisfied: python-dateutil>=2.1 in /usr/local/lib/python3.7/dist-packages (from matplotlib>=1.5->coclust[alldeps]) (2.8.1)\n",
            "Requirement already satisfied: cycler>=0.10 in /usr/local/lib/python3.7/dist-packages (from matplotlib>=1.5->coclust[alldeps]) (0.10.0)\n",
            "Requirement already satisfied: six>=1.5 in /usr/local/lib/python3.7/dist-packages (from python-dateutil>=2.1->matplotlib>=1.5->coclust[alldeps]) (1.15.0)\n",
            "Building wheels for collected packages: coclust\n",
            "  Building wheel for coclust (setup.py) ... \u001b[?25l\u001b[?25hdone\n",
            "  Created wheel for coclust: filename=coclust-0.2.1-cp37-none-any.whl size=29871 sha256=af8623c50bea156a3c44abd37377c5aae8928952dc83d525936fe43995760a55\n",
            "  Stored in directory: /root/.cache/pip/wheels/cd/d7/68/df601d0b5f8b934cf890dc626c2271df381fb0c3e910b0a34e\n",
            "Successfully built coclust\n",
            "Installing collected packages: coclust\n",
            "Successfully installed coclust-0.2.1\n"
          ],
          "name": "stdout"
        }
      ]
    },
    {
      "cell_type": "code",
      "metadata": {
        "id": "ooLiSoraCEvz"
      },
      "source": [
        "data = df.toPandas()"
      ],
      "execution_count": null,
      "outputs": []
    },
    {
      "cell_type": "code",
      "metadata": {
        "id": "jAXJlnp1BniD"
      },
      "source": [
        "from coclust.clustering import SphericalKmeans\r\n",
        "\r\n",
        "skm = SphericalKmeans(n_clusters=2)\r\n",
        "skm.fit(data)\r\n",
        "predicted_labels = skm.labels_"
      ],
      "execution_count": null,
      "outputs": []
    },
    {
      "cell_type": "code",
      "metadata": {
        "id": "gnSKl3aAFTTQ"
      },
      "source": [
        "newData = featurizedData.withColumnRenamed(\"category\", \"label\")\r\n",
        "newData = newData.withColumn(\"label\", when(col(\"label\") == \"altheism\",\"0\")\r\n",
        "                                 .otherwise(\"1\"))\r\n",
        "newData = newData.withColumn(\"label\",col(\"label\").cast(IntegerType()))"
      ],
      "execution_count": null,
      "outputs": []
    },
    {
      "cell_type": "code",
      "metadata": {
        "colab": {
          "base_uri": "https://localhost:8080/"
        },
        "id": "cUgrQMYPBSGl",
        "outputId": "a2b7deb0-369b-454c-e89a-85b39d62391a"
      },
      "source": [
        "from pyspark.ml.classification import LogisticRegression\r\n",
        "\r\n",
        "# Load training data\r\n",
        "\r\n",
        "lr = LogisticRegression(maxIter=10, regParam=0.3, elasticNetParam=0.8)\r\n",
        "\r\n",
        "# Fit the model\r\n",
        "lrModel = lr.fit(newData)\r\n",
        "\r\n",
        "# Print the coefficients and intercept for logistic regression\r\n",
        "print(\"Coefficients: \" + str(lrModel.coefficients))\r\n",
        "print(\"Intercept: \" + str(lrModel.intercept))\r\n",
        "\r\n",
        "# We can also use the multinomial family for binary classification\r\n",
        "mlr = LogisticRegression(maxIter=10, regParam=0.3, elasticNetParam=0.8, family=\"multinomial\")\r\n",
        "\r\n",
        "# Fit the model\r\n",
        "mlrModel = mlr.fit(newData)\r\n",
        "\r\n",
        "# Print the coefficients and intercepts for logistic regression with multinomial family\r\n",
        "print(\"Multinomial coefficients: \" + str(mlrModel.coefficientMatrix))\r\n",
        "print(\"Multinomial intercepts: \" + str(mlrModel.interceptVector))"
      ],
      "execution_count": null,
      "outputs": [
        {
          "output_type": "stream",
          "text": [
            "Coefficients: (20,[],[])\n",
            "Intercept: 0.0\n",
            "Multinomial coefficients: 2 X 20 CSRMatrix\n",
            "\n",
            "Multinomial intercepts: (2,[],[])\n"
          ],
          "name": "stdout"
        }
      ]
    }
  ]
}